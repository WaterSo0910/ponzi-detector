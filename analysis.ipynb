{
 "cells": [
  {
   "cell_type": "code",
   "execution_count": 1,
   "metadata": {},
   "outputs": [],
   "source": [
    "import pandas as pd"
   ]
  },
  {
   "cell_type": "code",
   "execution_count": 4,
   "metadata": {},
   "outputs": [
    {
     "data": {
      "text/html": [
       "<div>\n",
       "<style scoped>\n",
       "    .dataframe tbody tr th:only-of-type {\n",
       "        vertical-align: middle;\n",
       "    }\n",
       "\n",
       "    .dataframe tbody tr th {\n",
       "        vertical-align: top;\n",
       "    }\n",
       "\n",
       "    .dataframe thead th {\n",
       "        text-align: right;\n",
       "    }\n",
       "</style>\n",
       "<table border=\"1\" class=\"dataframe\">\n",
       "  <thead>\n",
       "    <tr style=\"text-align: right;\">\n",
       "      <th></th>\n",
       "      <th>addr\\tIS_PONZI</th>\n",
       "    </tr>\n",
       "  </thead>\n",
       "  <tbody>\n",
       "    <tr>\n",
       "      <th>0</th>\n",
       "      <td>0x0006157838d5a6b33ab66588a6a693a57c869999\\t0</td>\n",
       "    </tr>\n",
       "    <tr>\n",
       "      <th>1</th>\n",
       "      <td>0x001a589dda0d6be37632925eaf1256986b2c6ad0\\t0</td>\n",
       "    </tr>\n",
       "    <tr>\n",
       "      <th>2</th>\n",
       "      <td>0x00674045bb7c17f0aa1cde34780d6c51af548728\\t0</td>\n",
       "    </tr>\n",
       "    <tr>\n",
       "      <th>3</th>\n",
       "      <td>0x006bea43baa3f7a6f765f14f10a1a1b08334ef45\\t0</td>\n",
       "    </tr>\n",
       "    <tr>\n",
       "      <th>4</th>\n",
       "      <td>0x00712a531e207ad77e42586fb81e9fb8f68f0a7d\\t0</td>\n",
       "    </tr>\n",
       "    <tr>\n",
       "      <th>...</th>\n",
       "      <td>...</td>\n",
       "    </tr>\n",
       "    <tr>\n",
       "      <th>3879</th>\n",
       "      <td>0xf52ecc525d998eb880911a268b0fa4bc7d69a435\\t1</td>\n",
       "    </tr>\n",
       "    <tr>\n",
       "      <th>3880</th>\n",
       "      <td>0xf8f04b23dace12841343ecf0e06124354515cc42\\t1</td>\n",
       "    </tr>\n",
       "    <tr>\n",
       "      <th>3881</th>\n",
       "      <td>0xf91446ead6aadd4321602b5790a6db4d6f2a1930\\t1</td>\n",
       "    </tr>\n",
       "    <tr>\n",
       "      <th>3882</th>\n",
       "      <td>0xfad05ee13c8e0ec94e5ee9dc056dc451b2ad6b1d\\t1</td>\n",
       "    </tr>\n",
       "    <tr>\n",
       "      <th>3883</th>\n",
       "      <td>0xfe9c69945687539fabbf531133838d9cce522a76\\t1</td>\n",
       "    </tr>\n",
       "  </tbody>\n",
       "</table>\n",
       "<p>3884 rows × 1 columns</p>\n",
       "</div>"
      ],
      "text/plain": [
       "                                     addr\\tIS_PONZI\n",
       "0     0x0006157838d5a6b33ab66588a6a693a57c869999\\t0\n",
       "1     0x001a589dda0d6be37632925eaf1256986b2c6ad0\\t0\n",
       "2     0x00674045bb7c17f0aa1cde34780d6c51af548728\\t0\n",
       "3     0x006bea43baa3f7a6f765f14f10a1a1b08334ef45\\t0\n",
       "4     0x00712a531e207ad77e42586fb81e9fb8f68f0a7d\\t0\n",
       "...                                             ...\n",
       "3879  0xf52ecc525d998eb880911a268b0fa4bc7d69a435\\t1\n",
       "3880  0xf8f04b23dace12841343ecf0e06124354515cc42\\t1\n",
       "3881  0xf91446ead6aadd4321602b5790a6db4d6f2a1930\\t1\n",
       "3882  0xfad05ee13c8e0ec94e5ee9dc056dc451b2ad6b1d\\t1\n",
       "3883  0xfe9c69945687539fabbf531133838d9cce522a76\\t1\n",
       "\n",
       "[3884 rows x 1 columns]"
      ]
     },
     "execution_count": 4,
     "metadata": {},
     "output_type": "execute_result"
    }
   ],
   "source": [
    "df = pd.read_csv(\"ContractAddr.csv\",sep=' ')\n",
    "df"
   ]
  }
 ],
 "metadata": {
  "interpreter": {
   "hash": "ed5922a014e3af9ff7068397d43d1b878e0b963721c66b789277abfd127eb0cd"
  },
  "kernelspec": {
   "display_name": "Python 3.8.6 64-bit",
   "language": "python",
   "name": "python3"
  },
  "language_info": {
   "codemirror_mode": {
    "name": "ipython",
    "version": 3
   },
   "file_extension": ".py",
   "mimetype": "text/x-python",
   "name": "python",
   "nbconvert_exporter": "python",
   "pygments_lexer": "ipython3",
   "version": "3.8.6"
  },
  "orig_nbformat": 4
 },
 "nbformat": 4,
 "nbformat_minor": 2
}
